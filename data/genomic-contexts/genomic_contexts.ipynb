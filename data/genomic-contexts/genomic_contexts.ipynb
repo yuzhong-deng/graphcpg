{
 "cells": [
  {
   "attachments": {},
   "cell_type": "markdown",
   "metadata": {},
   "source": [
    "# Download, pick, and generate data of specific genomic contexts.\n",
    "To pick the interested region of specific genomic contexts and make a prediction on them, an example of GRCh38 on chromosome [2, 4, 6, 8, 10] is performed (Original build in the paper is Ensembl build 104).\n",
    "\n",
    "There are three types of raw files:\n",
    "- Regulatory Features: promoter, enhancers, TFBS, open chromatin, CTCF BS...\n",
    "- Featuer types: Exons, CDS...\n",
    "- CpG featuers: CpG islands, CpG shores...\n",
    "\n",
    "Three steps are included respectively:\n",
    "- Download \n",
    "- Pick interested regions and corresponding index\n",
    "- Generate dataset by new index"
   ]
  },
  {
   "cell_type": "code",
   "execution_count": 37,
   "metadata": {},
   "outputs": [],
   "source": [
    "import numpy as np\n",
    "import os\n",
    "import requests\n",
    "import gzip\n",
    "import shutil\n",
    "import pandas as pd\n",
    "import bisect\n",
    "import subprocess\n",
    "from tqdm import tqdm\n",
    "# set chromosome ID \n",
    "target_chromosome = ['2', '4', '6', '8', '10', '12'] #chromosome 10 for example\n",
    "# load files of Hemato Dataset\n",
    "y = np.load(\"y_Hemato.npz\")# you path of datasets\n",
    "pos = np.load(\"pos_Hemato.npz\")# your path of dataset"
   ]
  },
  {
   "attachments": {},
   "cell_type": "markdown",
   "metadata": {},
   "source": [
    "## Regulatory Features\n",
    "\n",
    "Available regions: {'TF_binding_site', 'open_chromatin_region', 'CTCF_binding_site', 'promoter', 'enhancer'}\n",
    "\n",
    "### Download"
   ]
  },
  {
   "cell_type": "code",
   "execution_count": 38,
   "metadata": {},
   "outputs": [],
   "source": [
    "# Define the URL and filename\n",
    "url = 'https://ftp.ensembl.org/pub/release-109/regulation/homo_sapiens/homo_sapiens.GRCh38.Regulatory_Build.regulatory_features.20221007.gff.gz'\n",
    "filename = 'homo_sapiens.GRCh38.Regulatory_Build.regulatory_features.20221007.gff.gz'\n",
    "unzip_filename = 'homo_sapiens.GRCh38.Regulatory_Build.regulatory_features.20221007.gff'\n",
    "\n",
    "if not os.path.exists(unzip_filename):\n",
    "    # Download the file to the current directory\n",
    "    response = requests.get(url)\n",
    "\n",
    "    if response.status_code == 200:\n",
    "        with open(os.path.join(os.getcwd(), filename), 'wb') as f:\n",
    "            f.write(response.content)\n",
    "\n",
    "    # Unzip the compressed file\n",
    "    with gzip.open(filename, 'rb') as f_in:\n",
    "        with open(unzip_filename, 'wb') as f_out:\n",
    "            shutil.copyfileobj(f_in, f_out)"
   ]
  },
  {
   "attachments": {},
   "cell_type": "markdown",
   "metadata": {},
   "source": [
    "### Pick interested regions and generate dataset"
   ]
  },
  {
   "cell_type": "code",
   "execution_count": 39,
   "metadata": {},
   "outputs": [
    {
     "name": "stderr",
     "output_type": "stream",
     "text": [
      "100%|██████████| 6/6 [00:00<00:00,  6.32it/s]\n",
      "100%|██████████| 6/6 [00:01<00:00,  5.43it/s]\n",
      "100%|██████████| 6/6 [00:01<00:00,  5.40it/s]\n",
      "100%|██████████| 6/6 [00:01<00:00,  5.45it/s]\n",
      "100%|██████████| 6/6 [00:01<00:00,  3.99it/s]\n"
     ]
    }
   ],
   "source": [
    "# Load GFF file into pandas DataFrame\n",
    "df = pd.read_csv(unzip_filename, sep='\\t', header=None, usecols=range(5))\n",
    "column_names = ['chr_id', 'Regulatory_build', 'type', 'start', 'end']\n",
    "df.columns = column_names\n",
    "for pick_type_id in ['TF_binding_site', 'open_chromatin_region', 'CTCF_binding_site', 'promoter', 'enhancer']:\n",
    "    pick_type = pick_type_id\n",
    "    if not os.path.exists('y_'+pick_type+'.npz'):\n",
    "        y_picked = {}\n",
    "        pos_picked = {}\n",
    "        for target_chromosome_id in tqdm(target_chromosome):\n",
    "            # Select specific chromosome\n",
    "            df_chr = df[df['chr_id'] == target_chromosome_id][['type', 'start', 'end']]\n",
    "            # Available elements\n",
    "            # print(\"Available regions:\",set(df_chr['type']))\n",
    "            # Take promoter as an example\n",
    "            df_chr_pick = df_chr[df_chr['type'] == pick_type][['start', 'end']]\n",
    "            df_chr_pick = df_chr_pick.sort_values(by='start').reset_index(drop=True)\n",
    "            chr_pick = df_chr_pick.values\n",
    "\n",
    "            chromosome_name = 'chr'+target_chromosome_id\n",
    "            # select chromosome\n",
    "            y_chr = y[chromosome_name]\n",
    "            pos_chr = pos[chromosome_name]\n",
    "            # initial new dataset\n",
    "            y_chr_picked = []\n",
    "            pos_chr_picked = [] \n",
    "            [last_start, last_end] = [0, 0]\n",
    "            for i in range(chr_pick.shape[0]):\n",
    "                [start, end] = chr_pick[i, :]\n",
    "                if last_start == start or start < last_end:\n",
    "                    continue   \n",
    "                start_pick = bisect.bisect_left(pos_chr, start)\n",
    "                end_pick = bisect.bisect_right(pos_chr, end) - 1\n",
    "                if end_pick <= 0:\n",
    "                    continue\n",
    "                if end_pick > pos_chr.shape[0]:\n",
    "                    continue\n",
    "                y_chr_picked += list(y_chr[start_pick:end_pick,:])\n",
    "                pos_chr_picked += list(pos_chr[start_pick:end_pick])\n",
    "                [last_start, last_end] = [start, end]\n",
    "            y_chr_picked = np.array(y_chr_picked)\n",
    "\n",
    "            y_picked[chromosome_name] = y_chr_picked\n",
    "            pos_picked[chromosome_name] = pos_chr_picked\n",
    "            \n",
    "        # save as npz\n",
    "        np.savez_compressed('y_'+pick_type+'.npz', **y_picked)\n",
    "        np.savez_compressed('pos_'+pick_type+'.npz', **pos_picked)"
   ]
  },
  {
   "attachments": {},
   "cell_type": "markdown",
   "metadata": {},
   "source": [
    "# Feature types\n",
    "\n",
    "Available regions: {'exon', 'three_prime_UTR', 'CDS', 'ncRNA_gene', 'V_gene_segment', 'J_gene_segment', 'rRNA', 'scRNA', 'pseudogenic_transcript', 'transcript', 'miRNA', 'biological_region', 'gene', 'mRNA', 'C_gene_segment', 'snRNA', 'unconfirmed_transcript', 'snoRNA', 'pseudogene', 'ncRNA', 'lnc_RNA', 'chromosome', 'five_prime_UTR'}\n",
    "\n",
    "### Download"
   ]
  },
  {
   "cell_type": "code",
   "execution_count": 89,
   "metadata": {},
   "outputs": [
    {
     "name": "stderr",
     "output_type": "stream",
     "text": [
      "100%|██████████| 6/6 [00:00<00:00, 49932.19it/s]\n"
     ]
    }
   ],
   "source": [
    "for target_chromosome_id in tqdm(target_chromosome):\n",
    "    # Define the URL and filename\n",
    "    url = 'https://ftp.ensembl.org/pub/release-109/gff3/homo_sapiens/Homo_sapiens.GRCh38.109.chromosome.'+target_chromosome_id+'.gff3.gz'\n",
    "    filename = 'Homo_sapiens.GRCh38.109.chromosome.'+target_chromosome_id+'.gff3.gz'\n",
    "    unzip_filename = 'Homo_sapiens.GRCh38.109.chromosome.'+target_chromosome_id+'.gff3'\n",
    "\n",
    "    if not os.path.exists(unzip_filename):\n",
    "        # Download the file to the current directory\n",
    "        response = requests.get(url)\n",
    "\n",
    "        if response.status_code == 200:\n",
    "            with open(os.path.join(os.getcwd(), filename), 'wb') as f:\n",
    "                f.write(response.content)\n",
    "\n",
    "        # Unzip the compressed file\n",
    "        with gzip.open(filename, 'rb') as f_in:\n",
    "            with open(unzip_filename, 'wb') as f_out:\n",
    "                shutil.copyfileobj(f_in, f_out)"
   ]
  },
  {
   "attachments": {},
   "cell_type": "markdown",
   "metadata": {},
   "source": [
    "### Pick interested regions and generate dataset"
   ]
  },
  {
   "cell_type": "code",
   "execution_count": 28,
   "metadata": {},
   "outputs": [
    {
     "name": "stderr",
     "output_type": "stream",
     "text": [
      "100%|██████████| 6/6 [00:01<00:00,  3.88it/s]\n",
      "100%|██████████| 6/6 [00:01<00:00,  3.09it/s]\n"
     ]
    }
   ],
   "source": [
    "for pick_type_id in ['CDS', 'exon']:\n",
    "    pick_type = pick_type_id\n",
    "    if not os.path.exists('y_'+pick_type+'.npz'):\n",
    "        y_picked = {}\n",
    "        pos_picked = {}\n",
    "        for target_chromosome_id in tqdm(target_chromosome[:]):\n",
    "            # Load GFF file into pandas DataFrame\n",
    "            df = pd.read_csv('Homo_sapiens.GRCh38.109.chromosome.'+target_chromosome_id+'.gff3', sep='\\t', header=None, comment='#', usecols=range(2,5))\n",
    "            column_names = ['feature_type', 'start', 'end']\n",
    "            df.columns = column_names\n",
    "            # Available features\n",
    "            # print(\"Available regions:\",set(df['feature_type']))\n",
    "\n",
    "            # Take exons as an example\n",
    "            df_chr_pick = df[df['feature_type'] == pick_type][['start', 'end']]\n",
    "            df_chr_pick = df_chr_pick.sort_values(by='start').reset_index(drop=True)\n",
    "            chr_pick = df_chr_pick.values\n",
    "\n",
    "            # load files of Ser Dataset\n",
    "            chromosome_name = 'chr'+target_chromosome_id\n",
    "            # select chromosome\n",
    "            y_chr = y[chromosome_name]\n",
    "            pos_chr = pos[chromosome_name]\n",
    "            # initial new dataset\n",
    "            y_chr_picked = []\n",
    "            pos_chr_picked = [] \n",
    "            [last_start, last_end] = [0, 0]\n",
    "            for i in range(chr_pick.shape[0]):\n",
    "                [start, end] = chr_pick[i, :]\n",
    "                if last_start == start or start < last_end:\n",
    "                    continue    \n",
    "                start_pick = bisect.bisect_left(pos_chr, start)\n",
    "                end_pick = bisect.bisect_right(pos_chr, end) - 1\n",
    "                if end_pick <= 0:\n",
    "                    continue\n",
    "                if end_pick > pos_chr.shape[0]:\n",
    "                    continue\n",
    "                y_chr_picked += list(y_chr[start_pick:end_pick,:])\n",
    "                pos_chr_picked += list(pos_chr[start_pick:end_pick])\n",
    "                [last_start, last_end] = [start, end]\n",
    "            y_chr_picked = np.array(y_chr_picked)\n",
    "\n",
    "            y_picked[chromosome_name] = y_chr_picked\n",
    "            pos_picked[chromosome_name] = pos_chr_picked\n",
    "        # save as npz\n",
    "        np.savez_compressed('y_'+pick_type+'.npz', **y_picked)\n",
    "        np.savez_compressed('pos_'+pick_type+'.npz', **pos_picked)"
   ]
  },
  {
   "attachments": {},
   "cell_type": "markdown",
   "metadata": {},
   "source": [
    "# CpG islands and CpG shores\n",
    " \n",
    "CpG shores: are processed with the regions 0-2000 positions both down and upstream from those CpG Islands\n",
    "\n",
    "['CpG_island', 'CpG_shores']\n",
    "\n",
    "## Download"
   ]
  },
  {
   "cell_type": "code",
   "execution_count": 87,
   "metadata": {},
   "outputs": [],
   "source": [
    "# Define the URL and filename\n",
    "url = 'http://hgdownload.cse.ucsc.edu/goldenpath/hg38/database/cpgIslandExt.txt.gz'\n",
    "filename = 'cpgIslandExt.txt.gz'\n",
    "unzip_filename = 'cpgIslandExt.txt'\n",
    "\n",
    "if not os.path.exists(unzip_filename):\n",
    "    # Download the file to the current directory\n",
    "    response = requests.get(url)\n",
    "\n",
    "    if response.status_code == 200:\n",
    "        with open(os.path.join(os.getcwd(), filename), 'wb') as f:\n",
    "            f.write(response.content)\n",
    "\n",
    "    # Unzip the compressed file\n",
    "    with gzip.open(filename, 'rb') as f_in:\n",
    "        with open(unzip_filename, 'wb') as f_out:\n",
    "            shutil.copyfileobj(f_in, f_out)"
   ]
  },
  {
   "attachments": {},
   "cell_type": "markdown",
   "metadata": {},
   "source": [
    "## Pick interested regions and generate dataset"
   ]
  },
  {
   "cell_type": "code",
   "execution_count": 32,
   "metadata": {},
   "outputs": [
    {
     "name": "stderr",
     "output_type": "stream",
     "text": [
      "100%|██████████| 6/6 [00:00<00:00,  6.30it/s]\n",
      "100%|██████████| 6/6 [00:00<00:00,  6.28it/s]\n"
     ]
    }
   ],
   "source": [
    "# Load txt file into pandas DataFrame\n",
    "df = pd.read_csv('cpgIslandExt.txt', sep='\\t', header=None, usecols=range(1,4))\n",
    "column_names = ['chr_id', 'start', 'end']\n",
    "df.columns = column_names\n",
    "\n",
    "for pick_type_id in ['shores', 'islands']:\n",
    "    pick_type = pick_type_id\n",
    "    if not os.path.exists('y_CpG_'+pick_type+'.npz'):\n",
    "        y_picked = {}\n",
    "        pos_picked = {}\n",
    "        for target_chromosome_id in tqdm(target_chromosome):\n",
    "            chromosome_name = 'chr'+target_chromosome_id\n",
    "            # Select specific chromosome\n",
    "            df_chr = df[df['chr_id'] == chromosome_name][['start', 'end']]\n",
    "            df_chr_pick = df_chr.sort_values(by='start').reset_index(drop=True)\n",
    "            chr_pick = df_chr_pick.values\n",
    "\n",
    "            # select chromosome\n",
    "            y_chr = y[chromosome_name]\n",
    "            pos_chr = pos[chromosome_name]\n",
    "            # initial new dataset\n",
    "            y_chr_picked = []\n",
    "            pos_chr_picked = [] \n",
    "            [last_start, last_end] = [0, 0]\n",
    "            for i in range(chr_pick.shape[0]):\n",
    "                [start, end] = chr_pick[i, :]\n",
    "                if pick_type == 'shores': # CpG shores\n",
    "                    if last_start == start-2000 or start-2000 < last_end:\n",
    "                        continue  \n",
    "                    startL_pick = bisect.bisect_left(pos_chr, start-2000)\n",
    "                    endL_pick = bisect.bisect_right(pos_chr,start) - 1\n",
    "                    startR_pick = bisect.bisect_left(pos_chr, end)\n",
    "                    endR_pick = bisect.bisect_right(pos_chr,end+2000) - 1\n",
    "                    if endR_pick <= 0:\n",
    "                        continue\n",
    "                    if endR_pick > pos_chr.shape[0]:\n",
    "                        continue\n",
    "                    y_chr_picked += list(y_chr[startL_pick:endL_pick,:])\n",
    "                    y_chr_picked += list(y_chr[startR_pick:endR_pick,:])\n",
    "                    pos_chr_picked += list(pos_chr[startL_pick:endL_pick])\n",
    "                    pos_chr_picked += list(pos_chr[startR_pick:endR_pick])\n",
    "                    [last_start, last_end] = [start-2000, end+2000]\n",
    "                else:\n",
    "                    if last_start == start or start < last_end:\n",
    "                        continue  \n",
    "                    start_pick = bisect.bisect_left(pos_chr, start)\n",
    "                    end_pick = bisect.bisect_right(pos_chr, end) - 1\n",
    "                    if end_pick <= 0:\n",
    "                        continue\n",
    "                    if end_pick > pos_chr.shape[0]:\n",
    "                        continue\n",
    "                    y_chr_picked += list(y_chr[start_pick:end_pick,:])\n",
    "                    pos_chr_picked += list(pos_chr[start_pick:end_pick])\n",
    "                    [last_start, last_end] = [start, end]\n",
    "            y_chr_picked = np.array(y_chr_picked)\n",
    "\n",
    "            y_picked[chromosome_name] = y_chr_picked\n",
    "            pos_picked[chromosome_name] = pos_chr_picked\n",
    "\n",
    "        # save as npz\n",
    "        np.savez_compressed('y_CpG_'+pick_type+'.npz', **y_picked)\n",
    "        np.savez_compressed('pos_CpG_'+pick_type+'.npz', **pos_picked)\n",
    "    "
   ]
  }
 ],
 "metadata": {
  "kernelspec": {
   "display_name": "graphcpg",
   "language": "python",
   "name": "python3"
  },
  "language_info": {
   "codemirror_mode": {
    "name": "ipython",
    "version": 3
   },
   "file_extension": ".py",
   "mimetype": "text/x-python",
   "name": "python",
   "nbconvert_exporter": "python",
   "pygments_lexer": "ipython3",
   "version": "3.9.0"
  },
  "orig_nbformat": 4,
  "vscode": {
   "interpreter": {
    "hash": "5dedb382c3e20e28cd4ad62bcb4bfc43f6459feecd0affd4ba47202d4f2f1cb6"
   }
  }
 },
 "nbformat": 4,
 "nbformat_minor": 2
}
